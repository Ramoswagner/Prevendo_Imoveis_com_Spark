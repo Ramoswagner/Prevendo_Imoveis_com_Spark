{
 "cells": [
  {
   "cell_type": "markdown",
   "id": "0f101755",
   "metadata": {},
   "source": [
    "### Importando o Framework PySpark"
   ]
  },
  {
   "cell_type": "code",
   "execution_count": 1,
   "id": "a980a929",
   "metadata": {
    "ExecuteTime": {
     "end_time": "2024-03-29T21:54:27.245595Z",
     "start_time": "2024-03-29T21:54:27.064843Z"
    }
   },
   "outputs": [],
   "source": [
    "from pyspark.sql.session import SparkSession\n",
    "from pyspark.sql.functions import *"
   ]
  },
  {
   "cell_type": "markdown",
   "id": "146a84c9",
   "metadata": {},
   "source": [
    "### Criando  Sessão Spark"
   ]
  },
  {
   "cell_type": "code",
   "execution_count": 2,
   "id": "ab7fd089",
   "metadata": {
    "ExecuteTime": {
     "end_time": "2024-03-29T21:56:00.784391Z",
     "start_time": "2024-03-29T21:54:27.251266Z"
    }
   },
   "outputs": [],
   "source": [
    "spark = SparkSession.builder.appName('Avaliação imóveis - SP').getOrCreate()"
   ]
  },
  {
   "cell_type": "markdown",
   "id": "a14a144a",
   "metadata": {},
   "source": [
    "### Lendo arquivo CSV"
   ]
  },
  {
   "cell_type": "code",
   "execution_count": 62,
   "id": "620d50b0",
   "metadata": {
    "ExecuteTime": {
     "end_time": "2024-03-30T01:24:28.437526Z",
     "start_time": "2024-03-30T01:23:32.325978Z"
    }
   },
   "outputs": [],
   "source": [
    "df = spark.read.csv(\n",
    "    'Preços Imóveis - Sao paulo.csv',\n",
    "    sep=';',\n",
    "    header=True\n",
    ")"
   ]
  },
  {
   "cell_type": "code",
   "execution_count": 63,
   "id": "a3f7e2dc",
   "metadata": {
    "ExecuteTime": {
     "end_time": "2024-03-30T01:24:34.709993Z",
     "start_time": "2024-03-30T01:24:31.549466Z"
    },
    "scrolled": false
   },
   "outputs": [
    {
     "name": "stdout",
     "output_type": "stream",
     "text": [
      "+--------------------+------+-------------------+---------+-----+-------+---------+-----+---------+-------+\n",
      "|                 Rua|Número|             Bairro|   Cidade| Área|Quartos|Banheiros|Vagas|    Preço|Aluguel|\n",
      "+--------------------+------+-------------------+---------+-----+-------+---------+-----+---------+-------+\n",
      "|     Avenida Itacira|   255|  Planalto Paulista|São Paulo|480.0|      4|        8|    6|3196250.0|  False|\n",
      "|Rua Aurelia Perez...|    42| Jardim dos Estados|São Paulo|496.5|      4|        4|    4|3700000.0|  False|\n",
      "|      Jardim Morumbi|     0|     Jardim Morumbi|São Paulo|310.0|      3|        2|    4| 685000.0|  False|\n",
      "|  Rua Tobias Barreto|   195|              Mooca|São Paulo|100.0|      3|        2|    2| 540000.0|  False|\n",
      "|    Rua Graham Bell |     0|        Santo Amaro|São Paulo|440.0|      4|        4|    6|1980000.0|  False|\n",
      "| Rua Francisco Paulo|    31|  Cidade Mãe do Céu|São Paulo|145.0|      4|        4|    2| 850000.0|  False|\n",
      "|         Rua Tapaji |     0|        Vila Alpina|São Paulo|114.0|      3|        3|    2| 585000.0|  False|\n",
      "|Rua Vigário João ...|    66|     Vila Monumento|São Paulo|261.0|      4|        4|    3| 700000.0|  False|\n",
      "|            Rua Tuim|   449|    Vila Uberabinha|São Paulo|193.0|      3|        3|    2|2500000.0|  False|\n",
      "|Rua Antônio Perei...|    98|   Jardim Prudência|São Paulo|251.0|      3|        5|    4|1700000.0|  False|\n",
      "|Rua João Antunes ...|    75|   Lauzane Paulista|São Paulo|300.0|      4|        5|    4|1150000.0|  False|\n",
      "|     Rua Graham Bell|   332|        Santo Amaro|São Paulo|772.0|      4|        7|    6|2700000.0|  False|\n",
      "|Avenida Antônio J...|   294|Vila Nova Conceição|São Paulo|605.0|      3|        3|    4|4190000.0|  False|\n",
      "|Rua Marcos Fernandes|  1039|    Jardim da Saúde|São Paulo|110.0|      3|        2|    5| 860000.0|  False|\n",
      "|Rua Jaime Pinto F...|    93|        Vila Mazzei|São Paulo|120.0|      2|        1|    1| 490000.0|  False|\n",
      "|Rua Aldo de Azevedo |     0|      Vila Madalena|São Paulo|170.0|      2|        2|    1|1485000.0|  False|\n",
      "|Rua João Francisc...|   111|  Vila Campo Grande|São Paulo|110.0|      3|        3|    2| 550000.0|  False|\n",
      "|Rua Serra de Botu...|   993|  Vila Gomes Cardim|São Paulo|120.0|      3|        2|    2|1100000.0|  False|\n",
      "|   Rua Andrade Neves|    37|       Bela Aliança|São Paulo|502.0|      4|        6|    4|2985000.0|  False|\n",
      "|      Rua Japeacaba |     0|     Vila Albertina|São Paulo|268.0|      3|        6|    4|1700000.0|  False|\n",
      "+--------------------+------+-------------------+---------+-----+-------+---------+-----+---------+-------+\n",
      "only showing top 20 rows\n",
      "\n"
     ]
    }
   ],
   "source": [
    "# Exibindo o DataFrame\n",
    "df.show()"
   ]
  },
  {
   "cell_type": "markdown",
   "id": "af8c6972",
   "metadata": {},
   "source": [
    "### Ordenando e Filtrando o df "
   ]
  },
  {
   "cell_type": "code",
   "execution_count": 57,
   "id": "31ba2af8",
   "metadata": {
    "ExecuteTime": {
     "end_time": "2024-03-29T23:56:53.582338Z",
     "start_time": "2024-03-29T23:56:53.360793Z"
    },
    "scrolled": true
   },
   "outputs": [
    {
     "name": "stdout",
     "output_type": "stream",
     "text": [
      "+--------------------+---------------+---------+-----+-------+---------+-----+---------+-------+\n",
      "|                 Rua|         Bairro|   Cidade| Área|Quartos|Banheiros|Vagas|    Preço|Aluguel|\n",
      "+--------------------+---------------+---------+-----+-------+---------+-----+---------+-------+\n",
      "|Rua Conselheiro T...|Jardim Paulista|São Paulo|420.0|      5|        7|    5|4500000.0|  false|\n",
      "|     Jardim Paulista|Jardim Paulista|São Paulo|390.0|      5|        6|    6|5500000.0|  false|\n",
      "|     Jardim Paulista|Jardim Paulista|São Paulo|390.0|      5|        6|    6|5500000.0|  false|\n",
      "|     Jardim Paulista|Jardim Paulista|São Paulo|380.0|      5|        5|    8|4990000.0|  false|\n",
      "|Rua Doutor João P...|Jardim Paulista|São Paulo|457.0|      5|        6|    3|6500000.0|  false|\n",
      "|     Jardim Paulista|Jardim Paulista|São Paulo|520.0|      5|        5|    4|3196250.0|  false|\n",
      "|Alameda Joaquim E...|Jardim Paulista|São Paulo|400.0|      5|        5|    4|6000000.0|  false|\n",
      "|      Alameda Franca|Jardim Paulista|São Paulo|137.0|      4|        2|    1|2600000.0|  false|\n",
      "|       Rua Pamplona |Jardim Paulista|São Paulo|156.0|      4|        4|    2|2340000.0|  false|\n",
      "|      Rua Primavera |Jardim Paulista|São Paulo|332.0|      4|        7|    6|5500000.0|  false|\n",
      "|  Rua José Clemente |Jardim Paulista|São Paulo|300.0|      4|        2|    6|3000000.0|  false|\n",
      "|     Jardim Paulista|Jardim Paulista|São Paulo|390.0|      4|        4|    4|5500000.0|  false|\n",
      "|     Jardim Paulista|Jardim Paulista|São Paulo|440.0|      4|        4|    2|3195000.0|  false|\n",
      "|Rua Doutor David ...|Jardim Paulista|São Paulo|650.0|      4|        6|    5|3196250.0|  false|\n",
      "|   Rua Oliveira Dias|Jardim Paulista|São Paulo|530.0|      4|        5|    4|4800000.0|  false|\n",
      "|     Jardim Paulista|Jardim Paulista|São Paulo|500.0|      4|        4|    4|5950000.0|  false|\n",
      "|     Jardim Paulista|Jardim Paulista|São Paulo|260.0|      4|        4|    7|4500000.0|  false|\n",
      "|     Jardim Paulista|Jardim Paulista|São Paulo|500.0|      4|        4|    4|5950000.0|  false|\n",
      "|     Jardim Paulista|Jardim Paulista|São Paulo|260.0|      4|        4|    7|4500000.0|  false|\n",
      "|Rua General Fonse...|Jardim Paulista|São Paulo|422.0|      4|        7|    4|3196250.0|  false|\n",
      "+--------------------+---------------+---------+-----+-------+---------+-----+---------+-------+\n",
      "only showing top 20 rows\n",
      "\n"
     ]
    }
   ],
   "source": [
    "# Analisando os quartos, de forma descendente(maior para o menor), do bairro Jardim Paulista\n",
    "df.orderBy(col('Quartos').desc()).filter(col('Bairro') == 'Jardim Paulista').show()"
   ]
  },
  {
   "cell_type": "markdown",
   "id": "df1c0e07",
   "metadata": {
    "ExecuteTime": {
     "end_time": "2024-03-29T23:54:20.405408Z",
     "start_time": "2024-03-29T23:54:20.400567Z"
    }
   },
   "source": [
    "Usando a linguagem SQL:"
   ]
  },
  {
   "cell_type": "code",
   "execution_count": 56,
   "id": "a29db667",
   "metadata": {
    "ExecuteTime": {
     "end_time": "2024-03-29T23:56:02.532988Z",
     "start_time": "2024-03-29T23:56:02.303245Z"
    }
   },
   "outputs": [
    {
     "name": "stdout",
     "output_type": "stream",
     "text": [
      "+--------------------+---------------+---------+-----+-------+---------+-----+---------+-------+\n",
      "|                 Rua|         Bairro|   Cidade| Área|Quartos|Banheiros|Vagas|    Preço|Aluguel|\n",
      "+--------------------+---------------+---------+-----+-------+---------+-----+---------+-------+\n",
      "|Rua Conselheiro T...|Jardim Paulista|São Paulo|420.0|      5|        7|    5|4500000.0|  false|\n",
      "|     Jardim Paulista|Jardim Paulista|São Paulo|390.0|      5|        6|    6|5500000.0|  false|\n",
      "|     Jardim Paulista|Jardim Paulista|São Paulo|390.0|      5|        6|    6|5500000.0|  false|\n",
      "|     Jardim Paulista|Jardim Paulista|São Paulo|380.0|      5|        5|    8|4990000.0|  false|\n",
      "|Rua Doutor João P...|Jardim Paulista|São Paulo|457.0|      5|        6|    3|6500000.0|  false|\n",
      "|     Jardim Paulista|Jardim Paulista|São Paulo|520.0|      5|        5|    4|3196250.0|  false|\n",
      "|Alameda Joaquim E...|Jardim Paulista|São Paulo|400.0|      5|        5|    4|6000000.0|  false|\n",
      "|      Alameda Franca|Jardim Paulista|São Paulo|137.0|      4|        2|    1|2600000.0|  false|\n",
      "|       Rua Pamplona |Jardim Paulista|São Paulo|156.0|      4|        4|    2|2340000.0|  false|\n",
      "|      Rua Primavera |Jardim Paulista|São Paulo|332.0|      4|        7|    6|5500000.0|  false|\n",
      "|  Rua José Clemente |Jardim Paulista|São Paulo|300.0|      4|        2|    6|3000000.0|  false|\n",
      "|     Jardim Paulista|Jardim Paulista|São Paulo|390.0|      4|        4|    4|5500000.0|  false|\n",
      "|     Jardim Paulista|Jardim Paulista|São Paulo|440.0|      4|        4|    2|3195000.0|  false|\n",
      "|Rua Doutor David ...|Jardim Paulista|São Paulo|650.0|      4|        6|    5|3196250.0|  false|\n",
      "|   Rua Oliveira Dias|Jardim Paulista|São Paulo|530.0|      4|        5|    4|4800000.0|  false|\n",
      "|     Jardim Paulista|Jardim Paulista|São Paulo|500.0|      4|        4|    4|5950000.0|  false|\n",
      "|     Jardim Paulista|Jardim Paulista|São Paulo|260.0|      4|        4|    7|4500000.0|  false|\n",
      "|     Jardim Paulista|Jardim Paulista|São Paulo|500.0|      4|        4|    4|5950000.0|  false|\n",
      "|     Jardim Paulista|Jardim Paulista|São Paulo|260.0|      4|        4|    7|4500000.0|  false|\n",
      "|Rua General Fonse...|Jardim Paulista|São Paulo|422.0|      4|        7|    4|3196250.0|  false|\n",
      "+--------------------+---------------+---------+-----+-------+---------+-----+---------+-------+\n",
      "only showing top 20 rows\n",
      "\n"
     ]
    }
   ],
   "source": [
    "# Registrando o DataFrame como uma visualização temporária\n",
    "df.createOrReplaceTempView(\"df\")\n",
    "\n",
    "# Executando a consulta SQL\n",
    "spark.sql(\"\"\"\n",
    "    SELECT *\n",
    "    FROM df\n",
    "    WHERE Bairro = \"Jardim Paulista\"\n",
    "    ORDER BY Quartos DESC\n",
    "\"\"\").show()"
   ]
  },
  {
   "cell_type": "markdown",
   "id": "a4996918",
   "metadata": {},
   "source": [
    "### Removendo coluna \"Número\""
   ]
  },
  {
   "cell_type": "code",
   "execution_count": 5,
   "id": "ab779d32",
   "metadata": {
    "ExecuteTime": {
     "end_time": "2024-03-29T21:56:24.938284Z",
     "start_time": "2024-03-29T21:56:24.903884Z"
    }
   },
   "outputs": [],
   "source": [
    "# Eliminando a coluna Número\n",
    "df = df.drop('Número')"
   ]
  },
  {
   "cell_type": "markdown",
   "id": "477defdc",
   "metadata": {},
   "source": [
    "### Verificando e alterando o tipo das colunas "
   ]
  },
  {
   "cell_type": "code",
   "execution_count": 6,
   "id": "e96f2870",
   "metadata": {
    "ExecuteTime": {
     "end_time": "2024-03-29T21:56:24.980665Z",
     "start_time": "2024-03-29T21:56:24.938284Z"
    },
    "scrolled": true
   },
   "outputs": [
    {
     "name": "stdout",
     "output_type": "stream",
     "text": [
      "root\n",
      " |-- Rua: string (nullable = true)\n",
      " |-- Bairro: string (nullable = true)\n",
      " |-- Cidade: string (nullable = true)\n",
      " |-- Área: string (nullable = true)\n",
      " |-- Quartos: string (nullable = true)\n",
      " |-- Banheiros: string (nullable = true)\n",
      " |-- Vagas: string (nullable = true)\n",
      " |-- Preço: string (nullable = true)\n",
      " |-- Aluguel: string (nullable = true)\n",
      "\n"
     ]
    }
   ],
   "source": [
    "# Exibindo o esquema do DataFrame\n",
    "df.printSchema()"
   ]
  },
  {
   "cell_type": "code",
   "execution_count": 7,
   "id": "c2ab4066",
   "metadata": {
    "ExecuteTime": {
     "end_time": "2024-03-29T21:56:25.481159Z",
     "start_time": "2024-03-29T21:56:24.980665Z"
    }
   },
   "outputs": [],
   "source": [
    "# Realizando a conversão de tipos das colunas no DataFrame\n",
    "df = df.withColumn(\n",
    "    'Área', col('Área').cast('float')\n",
    ").withColumn(\n",
    "    'Quartos', col('Quartos').cast('int')\n",
    ").withColumn(\n",
    "    'Banheiros', col('Banheiros').cast('int')\n",
    ").withColumn(\n",
    "    'Vagas', col('Vagas').cast('int')\n",
    ").withColumn(\n",
    "    'Preço', col('Preço').cast('float')\n",
    ").withColumn(\n",
    "    'Aluguel', col('Aluguel').cast('boolean')\n",
    ")"
   ]
  },
  {
   "cell_type": "code",
   "execution_count": 8,
   "id": "85ce8930",
   "metadata": {
    "ExecuteTime": {
     "end_time": "2024-03-29T21:56:25.505914Z",
     "start_time": "2024-03-29T21:56:25.498220Z"
    },
    "scrolled": false
   },
   "outputs": [
    {
     "name": "stdout",
     "output_type": "stream",
     "text": [
      "root\n",
      " |-- Rua: string (nullable = true)\n",
      " |-- Bairro: string (nullable = true)\n",
      " |-- Cidade: string (nullable = true)\n",
      " |-- Área: float (nullable = true)\n",
      " |-- Quartos: integer (nullable = true)\n",
      " |-- Banheiros: integer (nullable = true)\n",
      " |-- Vagas: integer (nullable = true)\n",
      " |-- Preço: float (nullable = true)\n",
      " |-- Aluguel: boolean (nullable = true)\n",
      "\n"
     ]
    }
   ],
   "source": [
    "# Exibindo o esquema do DataFrame, ápos as adequaçãoes nas colunas\n",
    "df.printSchema()"
   ]
  },
  {
   "cell_type": "code",
   "execution_count": 9,
   "id": "3725754d",
   "metadata": {
    "ExecuteTime": {
     "end_time": "2024-03-29T21:56:26.125499Z",
     "start_time": "2024-03-29T21:56:25.508928Z"
    }
   },
   "outputs": [
    {
     "name": "stdout",
     "output_type": "stream",
     "text": [
      "+--------------------+-------------------+---------+-----+-------+---------+-----+---------+-------+\n",
      "|                 Rua|             Bairro|   Cidade| Área|Quartos|Banheiros|Vagas|    Preço|Aluguel|\n",
      "+--------------------+-------------------+---------+-----+-------+---------+-----+---------+-------+\n",
      "|     Avenida Itacira|  Planalto Paulista|São Paulo|480.0|      4|        8|    6|3196250.0|  false|\n",
      "|Rua Aurelia Perez...| Jardim dos Estados|São Paulo|496.5|      4|        4|    4|3700000.0|  false|\n",
      "|      Jardim Morumbi|     Jardim Morumbi|São Paulo|310.0|      3|        2|    4| 685000.0|  false|\n",
      "|  Rua Tobias Barreto|              Mooca|São Paulo|100.0|      3|        2|    2| 540000.0|  false|\n",
      "|    Rua Graham Bell |        Santo Amaro|São Paulo|440.0|      4|        4|    6|1980000.0|  false|\n",
      "| Rua Francisco Paulo|  Cidade Mãe do Céu|São Paulo|145.0|      4|        4|    2| 850000.0|  false|\n",
      "|         Rua Tapaji |        Vila Alpina|São Paulo|114.0|      3|        3|    2| 585000.0|  false|\n",
      "|Rua Vigário João ...|     Vila Monumento|São Paulo|261.0|      4|        4|    3| 700000.0|  false|\n",
      "|            Rua Tuim|    Vila Uberabinha|São Paulo|193.0|      3|        3|    2|2500000.0|  false|\n",
      "|Rua Antônio Perei...|   Jardim Prudência|São Paulo|251.0|      3|        5|    4|1700000.0|  false|\n",
      "|Rua João Antunes ...|   Lauzane Paulista|São Paulo|300.0|      4|        5|    4|1150000.0|  false|\n",
      "|     Rua Graham Bell|        Santo Amaro|São Paulo|772.0|      4|        7|    6|2700000.0|  false|\n",
      "|Avenida Antônio J...|Vila Nova Conceição|São Paulo|605.0|      3|        3|    4|4190000.0|  false|\n",
      "|Rua Marcos Fernandes|    Jardim da Saúde|São Paulo|110.0|      3|        2|    5| 860000.0|  false|\n",
      "|Rua Jaime Pinto F...|        Vila Mazzei|São Paulo|120.0|      2|        1|    1| 490000.0|  false|\n",
      "|Rua Aldo de Azevedo |      Vila Madalena|São Paulo|170.0|      2|        2|    1|1485000.0|  false|\n",
      "|Rua João Francisc...|  Vila Campo Grande|São Paulo|110.0|      3|        3|    2| 550000.0|  false|\n",
      "|Rua Serra de Botu...|  Vila Gomes Cardim|São Paulo|120.0|      3|        2|    2|1100000.0|  false|\n",
      "|   Rua Andrade Neves|       Bela Aliança|São Paulo|502.0|      4|        6|    4|2985000.0|  false|\n",
      "|      Rua Japeacaba |     Vila Albertina|São Paulo|268.0|      3|        6|    4|1700000.0|  false|\n",
      "+--------------------+-------------------+---------+-----+-------+---------+-----+---------+-------+\n",
      "only showing top 20 rows\n",
      "\n"
     ]
    }
   ],
   "source": [
    "# Exibindo o DataFrame\n",
    "df.show()"
   ]
  },
  {
   "cell_type": "markdown",
   "id": "026c0360",
   "metadata": {},
   "source": [
    "### Pipeline de Codificação de Variáveis Categóricas"
   ]
  },
  {
   "cell_type": "code",
   "execution_count": 10,
   "id": "be8bdffb",
   "metadata": {
    "ExecuteTime": {
     "end_time": "2024-03-29T21:56:26.140898Z",
     "start_time": "2024-03-29T21:56:26.136015Z"
    }
   },
   "outputs": [],
   "source": [
    "from pyspark.ml.feature import StringIndexer, OneHotEncoder\n",
    "from pyspark.ml import Pipeline"
   ]
  },
  {
   "cell_type": "code",
   "execution_count": 11,
   "id": "aba7c918",
   "metadata": {
    "ExecuteTime": {
     "end_time": "2024-03-29T21:56:37.452403Z",
     "start_time": "2024-03-29T21:56:26.143910Z"
    }
   },
   "outputs": [],
   "source": [
    "# Criando StringIndexer para as colunas 'Bairro' e 'Rua'\n",
    "rua_indexer = StringIndexer(inputCol=\"Rua\", outputCol=\"Rua_Index\")\n",
    "bairro_indexer = StringIndexer(inputCol=\"Bairro\", outputCol=\"Bairro_Index\")\n",
    "\n",
    "# Criando OneHotEncoder para os índices numéricos das colunas 'Bairro' e 'Rua'\n",
    "rua_encoder = OneHotEncoder(inputCol=\"Rua_Index\", outputCol=\"Rua_Encoded\")\n",
    "bairro_encoder = OneHotEncoder(inputCol=\"Bairro_Index\", outputCol=\"Bairro_Encoded\")\n",
    "\n",
    "# Criando um pipeline para encadear os transformadores\n",
    "pipeline = Pipeline(stages=[bairro_indexer, rua_indexer, bairro_encoder, rua_encoder])\n",
    "\n",
    "# Aplicando o pipeline aos dados\n",
    "df_transformed = pipeline.fit(df).transform(df)\n"
   ]
  },
  {
   "cell_type": "code",
   "execution_count": 29,
   "id": "c28d8ffc",
   "metadata": {
    "ExecuteTime": {
     "end_time": "2024-03-29T22:58:49.720109Z",
     "start_time": "2024-03-29T22:58:47.311975Z"
    }
   },
   "outputs": [
    {
     "name": "stdout",
     "output_type": "stream",
     "text": [
      "+--------------------+-------------------+---------+-----+-------+---------+-----+---------+-------+------------+---------+-----------------+-------------------+\n",
      "|                 Rua|             Bairro|   Cidade| Área|Quartos|Banheiros|Vagas|    Preço|Aluguel|Bairro_Index|Rua_Index|   Bairro_Encoded|        Rua_Encoded|\n",
      "+--------------------+-------------------+---------+-----+-------+---------+-----+---------+-------+------------+---------+-----------------+-------------------+\n",
      "|     Avenida Itacira|  Planalto Paulista|São Paulo|480.0|      4|        8|    6|3196250.0|  false|         4.0|   1323.0|  (280,[4],[1.0])|(2505,[1323],[1.0])|\n",
      "|Rua Aurelia Perez...| Jardim dos Estados|São Paulo|496.5|      4|        4|    4|3700000.0|  false|        85.0|   1488.0| (280,[85],[1.0])|(2505,[1488],[1.0])|\n",
      "|      Jardim Morumbi|     Jardim Morumbi|São Paulo|310.0|      3|        2|    4| 685000.0|  false|        36.0|     32.0| (280,[36],[1.0])|  (2505,[32],[1.0])|\n",
      "|  Rua Tobias Barreto|              Mooca|São Paulo|100.0|      3|        2|    2| 540000.0|  false|        34.0|   1211.0| (280,[34],[1.0])|(2505,[1211],[1.0])|\n",
      "|    Rua Graham Bell |        Santo Amaro|São Paulo|440.0|      4|        4|    6|1980000.0|  false|        10.0|    230.0| (280,[10],[1.0])| (2505,[230],[1.0])|\n",
      "| Rua Francisco Paulo|  Cidade Mãe do Céu|São Paulo|145.0|      4|        4|    2| 850000.0|  false|       204.0|   1835.0|(280,[204],[1.0])|(2505,[1835],[1.0])|\n",
      "|         Rua Tapaji |        Vila Alpina|São Paulo|114.0|      3|        3|    2| 585000.0|  false|       152.0|   2375.0|(280,[152],[1.0])|(2505,[2375],[1.0])|\n",
      "|Rua Vigário João ...|     Vila Monumento|São Paulo|261.0|      4|        4|    3| 700000.0|  false|        19.0|   2429.0| (280,[19],[1.0])|(2505,[2429],[1.0])|\n",
      "|            Rua Tuim|    Vila Uberabinha|São Paulo|193.0|      3|        3|    2|2500000.0|  false|       270.0|   2396.0|(280,[270],[1.0])|(2505,[2396],[1.0])|\n",
      "|Rua Antônio Perei...|   Jardim Prudência|São Paulo|251.0|      3|        5|    4|1700000.0|  false|        37.0|    805.0| (280,[37],[1.0])| (2505,[805],[1.0])|\n",
      "|Rua João Antunes ...|   Lauzane Paulista|São Paulo|300.0|      4|        5|    4|1150000.0|  false|       236.0|   1984.0|(280,[236],[1.0])|(2505,[1984],[1.0])|\n",
      "|     Rua Graham Bell|        Santo Amaro|São Paulo|772.0|      4|        7|    6|2700000.0|  false|        10.0|   1879.0| (280,[10],[1.0])|(2505,[1879],[1.0])|\n",
      "|Avenida Antônio J...|Vila Nova Conceição|São Paulo|605.0|      3|        3|    4|4190000.0|  false|        26.0|   1303.0| (280,[26],[1.0])|(2505,[1303],[1.0])|\n",
      "|Rua Marcos Fernandes|    Jardim da Saúde|São Paulo|110.0|      3|        2|    5| 860000.0|  false|        41.0|    595.0| (280,[41],[1.0])| (2505,[595],[1.0])|\n",
      "|Rua Jaime Pinto F...|        Vila Mazzei|São Paulo|120.0|      2|        1|    1| 490000.0|  false|       114.0|   1947.0|(280,[114],[1.0])|(2505,[1947],[1.0])|\n",
      "|Rua Aldo de Azevedo |      Vila Madalena|São Paulo|170.0|      2|        2|    1|1485000.0|  false|         3.0|    456.0|  (280,[3],[1.0])| (2505,[456],[1.0])|\n",
      "|Rua João Francisc...|  Vila Campo Grande|São Paulo|110.0|      3|        3|    2| 550000.0|  false|        95.0|   1989.0| (280,[95],[1.0])|(2505,[1989],[1.0])|\n",
      "|Rua Serra de Botu...|  Vila Gomes Cardim|São Paulo|120.0|      3|        2|    2|1100000.0|  false|       126.0|   2349.0|(280,[126],[1.0])|(2505,[2349],[1.0])|\n",
      "|   Rua Andrade Neves|       Bela Aliança|São Paulo|502.0|      4|        6|    4|2985000.0|  false|       105.0|   1429.0|(280,[105],[1.0])|(2505,[1429],[1.0])|\n",
      "|      Rua Japeacaba |     Vila Albertina|São Paulo|268.0|      3|        6|    4|1700000.0|  false|       124.0|    573.0|(280,[124],[1.0])| (2505,[573],[1.0])|\n",
      "+--------------------+-------------------+---------+-----+-------+---------+-----+---------+-------+------------+---------+-----------------+-------------------+\n",
      "only showing top 20 rows\n",
      "\n"
     ]
    }
   ],
   "source": [
    "df_transformed.show()"
   ]
  },
  {
   "cell_type": "code",
   "execution_count": 13,
   "id": "4967b2f4",
   "metadata": {
    "ExecuteTime": {
     "end_time": "2024-03-29T21:56:41.590758Z",
     "start_time": "2024-03-29T21:56:40.247367Z"
    }
   },
   "outputs": [
    {
     "name": "stdout",
     "output_type": "stream",
     "text": [
      "+-------------------+-----------------+\n",
      "|        Rua_Encoded|   Bairro_Encoded|\n",
      "+-------------------+-----------------+\n",
      "|(2505,[1323],[1.0])|  (280,[4],[1.0])|\n",
      "|(2505,[1488],[1.0])| (280,[85],[1.0])|\n",
      "|  (2505,[32],[1.0])| (280,[36],[1.0])|\n",
      "|(2505,[1211],[1.0])| (280,[34],[1.0])|\n",
      "| (2505,[230],[1.0])| (280,[10],[1.0])|\n",
      "|(2505,[1835],[1.0])|(280,[204],[1.0])|\n",
      "|(2505,[2375],[1.0])|(280,[152],[1.0])|\n",
      "|(2505,[2429],[1.0])| (280,[19],[1.0])|\n",
      "|(2505,[2396],[1.0])|(280,[270],[1.0])|\n",
      "| (2505,[805],[1.0])| (280,[37],[1.0])|\n",
      "|(2505,[1984],[1.0])|(280,[236],[1.0])|\n",
      "|(2505,[1879],[1.0])| (280,[10],[1.0])|\n",
      "|(2505,[1303],[1.0])| (280,[26],[1.0])|\n",
      "| (2505,[595],[1.0])| (280,[41],[1.0])|\n",
      "|(2505,[1947],[1.0])|(280,[114],[1.0])|\n",
      "| (2505,[456],[1.0])|  (280,[3],[1.0])|\n",
      "|(2505,[1989],[1.0])| (280,[95],[1.0])|\n",
      "|(2505,[2349],[1.0])|(280,[126],[1.0])|\n",
      "|(2505,[1429],[1.0])|(280,[105],[1.0])|\n",
      "| (2505,[573],[1.0])|(280,[124],[1.0])|\n",
      "+-------------------+-----------------+\n",
      "only showing top 20 rows\n",
      "\n"
     ]
    }
   ],
   "source": [
    "df_transformed.select(['Rua_Encoded', 'Bairro_Encoded']).show()"
   ]
  },
  {
   "cell_type": "markdown",
   "id": "37b69ee5",
   "metadata": {},
   "source": [
    "### Prevendo dados com Machine Learning"
   ]
  },
  {
   "cell_type": "code",
   "execution_count": 14,
   "id": "d41c53ea",
   "metadata": {
    "ExecuteTime": {
     "end_time": "2024-03-29T21:57:23.524275Z",
     "start_time": "2024-03-29T21:57:23.407143Z"
    }
   },
   "outputs": [],
   "source": [
    "from pyspark.ml.regression import LinearRegression\n",
    "from pyspark.ml.feature import VectorAssembler\n",
    "from pyspark.ml.evaluation import RegressionEvaluator\n",
    "\n",
    "# Selecionando as colunas relevantes para a regressão e criando a feature vector\n",
    "assembler = VectorAssembler(\n",
    "    inputCols=['Rua_Encoded', 'Bairro_Encoded', 'Área','Quartos','Banheiros', 'Vagas'], # colunas relevantes\n",
    "    outputCol='features')"
   ]
  },
  {
   "cell_type": "code",
   "execution_count": 15,
   "id": "2a658d0b",
   "metadata": {
    "ExecuteTime": {
     "end_time": "2024-03-29T21:57:26.489915Z",
     "start_time": "2024-03-29T21:57:25.776832Z"
    }
   },
   "outputs": [],
   "source": [
    "# Transformando os dados usando o vetor de características\n",
    "df_analise = assembler.transform(df_transformed)"
   ]
  },
  {
   "cell_type": "code",
   "execution_count": 16,
   "id": "efa9a85d",
   "metadata": {
    "ExecuteTime": {
     "end_time": "2024-03-29T21:57:37.490124Z",
     "start_time": "2024-03-29T21:57:37.409973Z"
    }
   },
   "outputs": [],
   "source": [
    "# Dividindo os dados em conjuntos de treinamento e teste\n",
    "train, test = df_analise.randomSplit([0.8, 0.2], seed=42)"
   ]
  },
  {
   "cell_type": "markdown",
   "id": "6eacffc3",
   "metadata": {},
   "source": [
    "#### Regressão Linear"
   ]
  },
  {
   "cell_type": "code",
   "execution_count": 17,
   "id": "5b1a32fc",
   "metadata": {
    "ExecuteTime": {
     "end_time": "2024-03-29T21:58:07.512678Z",
     "start_time": "2024-03-29T21:57:39.729059Z"
    }
   },
   "outputs": [],
   "source": [
    "# Inicializando o modelo de regressão linear\n",
    "lr = LinearRegression(featuresCol=\"features\", labelCol=\"Preço\")\n",
    "\n",
    "# Treinando o modelo com os dados de treinamento\n",
    "lr_model = lr.fit(train)"
   ]
  },
  {
   "cell_type": "code",
   "execution_count": 18,
   "id": "448f7875",
   "metadata": {
    "ExecuteTime": {
     "end_time": "2024-03-29T21:58:19.683336Z",
     "start_time": "2024-03-29T21:58:18.243934Z"
    }
   },
   "outputs": [
    {
     "name": "stdout",
     "output_type": "stream",
     "text": [
      "+------------------+---------+--------------------+\n",
      "|        prediction|    Preço|            features|\n",
      "+------------------+---------+--------------------+\n",
      "|3219409.3518080194|3750000.0|(2789,[1282,2548,...|\n",
      "| 2600073.224621462|2600000.0|(2789,[704,2513,2...|\n",
      "|2515177.2036139993|2600000.0|(2789,[274,2513,2...|\n",
      "|3554106.4258927023|6000000.0|(2789,[1285,2513,...|\n",
      "|1299991.9729953518|1300000.0|(2789,[708,2597,2...|\n",
      "|4188542.9776866827|3390000.0|(2789,[709,2509,2...|\n",
      "|2133488.1164470986|1690000.0|(2789,[188,2520,2...|\n",
      "| 1655920.551840134|1745000.0|(2789,[276,2520,2...|\n",
      "| 3598254.575193813|3500000.0|(2789,[414,2643,2...|\n",
      "|1620476.8356334576|1300000.0|(2789,[711,2509,2...|\n",
      "| 1821287.330127682|1730000.0|(2789,[711,2509,2...|\n",
      "| 2300029.367929453|2300000.0|(2789,[712,2509,2...|\n",
      "|1323580.0163435908|1300000.0|(2789,[277,2509,2...|\n",
      "| 2458916.488860454|3480000.0|(2789,[1290,2548,...|\n",
      "|1418444.2445708348|1390000.0|(2789,[189,2509,2...|\n",
      "|1229302.2098989028|1130000.0|(2789,[278,2537,2...|\n",
      "|1245838.9576556238| 600000.0|(2789,[1293,2520,...|\n",
      "| 1748352.622864353|1100000.0|(2789,[18,2528,27...|\n",
      "|2414070.3118256354|1200000.0|(2789,[18,2528,27...|\n",
      "|-71137.28627839871| 530000.0|(2789,[191,2585,2...|\n",
      "+------------------+---------+--------------------+\n",
      "only showing top 20 rows\n",
      "\n"
     ]
    }
   ],
   "source": [
    "# Fazendo previsões nos dados de teste\n",
    "predictions = lr_model.transform(test)\n",
    "\n",
    "# Visualizando as previsões\n",
    "predictions.select(\"prediction\", \"Preço\", \"features\").show()"
   ]
  },
  {
   "cell_type": "code",
   "execution_count": 19,
   "id": "879017e9",
   "metadata": {
    "ExecuteTime": {
     "end_time": "2024-03-29T21:58:30.259231Z",
     "start_time": "2024-03-29T21:58:29.385716Z"
    },
    "scrolled": true
   },
   "outputs": [
    {
     "name": "stdout",
     "output_type": "stream",
     "text": [
      "Root Mean Squared Error (RMSE) on test data = 721441\n"
     ]
    }
   ],
   "source": [
    "# Avaliando o modelo usando o evaluator padrão\n",
    "evaluator = RegressionEvaluator(labelCol=\"Preço\", predictionCol=\"prediction\", metricName=\"rmse\")\n",
    "rmse = evaluator.evaluate(predictions)\n",
    "print(\"Root Mean Squared Error (RMSE) on test data = %g\" % rmse)"
   ]
  },
  {
   "cell_type": "code",
   "execution_count": 20,
   "id": "701f9c8d",
   "metadata": {
    "ExecuteTime": {
     "end_time": "2024-03-29T21:58:35.066921Z",
     "start_time": "2024-03-29T21:58:34.180998Z"
    },
    "scrolled": true
   },
   "outputs": [
    {
     "name": "stdout",
     "output_type": "stream",
     "text": [
      "+--------------------+-------------------+---------+-----+-------+---------+-----+---------+-------+------------+---------+-----------------+-------------------+--------------------+\n",
      "|                 Rua|             Bairro|   Cidade| Área|Quartos|Banheiros|Vagas|    Preço|Aluguel|Bairro_Index|Rua_Index|   Bairro_Encoded|        Rua_Encoded|            features|\n",
      "+--------------------+-------------------+---------+-----+-------+---------+-----+---------+-------+------------+---------+-----------------+-------------------+--------------------+\n",
      "|     Avenida Itacira|  Planalto Paulista|São Paulo|480.0|      4|        8|    6|3196250.0|  false|         4.0|   1323.0|  (280,[4],[1.0])|(2505,[1323],[1.0])|(2789,[1323,2509,...|\n",
      "|Rua Aurelia Perez...| Jardim dos Estados|São Paulo|496.5|      4|        4|    4|3700000.0|  false|        85.0|   1488.0| (280,[85],[1.0])|(2505,[1488],[1.0])|(2789,[1488,2590,...|\n",
      "|      Jardim Morumbi|     Jardim Morumbi|São Paulo|310.0|      3|        2|    4| 685000.0|  false|        36.0|     32.0| (280,[36],[1.0])|  (2505,[32],[1.0])|(2789,[32,2541,27...|\n",
      "|  Rua Tobias Barreto|              Mooca|São Paulo|100.0|      3|        2|    2| 540000.0|  false|        34.0|   1211.0| (280,[34],[1.0])|(2505,[1211],[1.0])|(2789,[1211,2539,...|\n",
      "|    Rua Graham Bell |        Santo Amaro|São Paulo|440.0|      4|        4|    6|1980000.0|  false|        10.0|    230.0| (280,[10],[1.0])| (2505,[230],[1.0])|(2789,[230,2515,2...|\n",
      "| Rua Francisco Paulo|  Cidade Mãe do Céu|São Paulo|145.0|      4|        4|    2| 850000.0|  false|       204.0|   1835.0|(280,[204],[1.0])|(2505,[1835],[1.0])|(2789,[1835,2709,...|\n",
      "|         Rua Tapaji |        Vila Alpina|São Paulo|114.0|      3|        3|    2| 585000.0|  false|       152.0|   2375.0|(280,[152],[1.0])|(2505,[2375],[1.0])|(2789,[2375,2657,...|\n",
      "|Rua Vigário João ...|     Vila Monumento|São Paulo|261.0|      4|        4|    3| 700000.0|  false|        19.0|   2429.0| (280,[19],[1.0])|(2505,[2429],[1.0])|(2789,[2429,2524,...|\n",
      "|            Rua Tuim|    Vila Uberabinha|São Paulo|193.0|      3|        3|    2|2500000.0|  false|       270.0|   2396.0|(280,[270],[1.0])|(2505,[2396],[1.0])|(2789,[2396,2775,...|\n",
      "|Rua Antônio Perei...|   Jardim Prudência|São Paulo|251.0|      3|        5|    4|1700000.0|  false|        37.0|    805.0| (280,[37],[1.0])| (2505,[805],[1.0])|(2789,[805,2542,2...|\n",
      "|Rua João Antunes ...|   Lauzane Paulista|São Paulo|300.0|      4|        5|    4|1150000.0|  false|       236.0|   1984.0|(280,[236],[1.0])|(2505,[1984],[1.0])|(2789,[1984,2741,...|\n",
      "|     Rua Graham Bell|        Santo Amaro|São Paulo|772.0|      4|        7|    6|2700000.0|  false|        10.0|   1879.0| (280,[10],[1.0])|(2505,[1879],[1.0])|(2789,[1879,2515,...|\n",
      "|Avenida Antônio J...|Vila Nova Conceição|São Paulo|605.0|      3|        3|    4|4190000.0|  false|        26.0|   1303.0| (280,[26],[1.0])|(2505,[1303],[1.0])|(2789,[1303,2531,...|\n",
      "|Rua Marcos Fernandes|    Jardim da Saúde|São Paulo|110.0|      3|        2|    5| 860000.0|  false|        41.0|    595.0| (280,[41],[1.0])| (2505,[595],[1.0])|(2789,[595,2546,2...|\n",
      "|Rua Jaime Pinto F...|        Vila Mazzei|São Paulo|120.0|      2|        1|    1| 490000.0|  false|       114.0|   1947.0|(280,[114],[1.0])|(2505,[1947],[1.0])|(2789,[1947,2619,...|\n",
      "|Rua Aldo de Azevedo |      Vila Madalena|São Paulo|170.0|      2|        2|    1|1485000.0|  false|         3.0|    456.0|  (280,[3],[1.0])| (2505,[456],[1.0])|(2789,[456,2508,2...|\n",
      "|Rua João Francisc...|  Vila Campo Grande|São Paulo|110.0|      3|        3|    2| 550000.0|  false|        95.0|   1989.0| (280,[95],[1.0])|(2505,[1989],[1.0])|(2789,[1989,2600,...|\n",
      "|Rua Serra de Botu...|  Vila Gomes Cardim|São Paulo|120.0|      3|        2|    2|1100000.0|  false|       126.0|   2349.0|(280,[126],[1.0])|(2505,[2349],[1.0])|(2789,[2349,2631,...|\n",
      "|   Rua Andrade Neves|       Bela Aliança|São Paulo|502.0|      4|        6|    4|2985000.0|  false|       105.0|   1429.0|(280,[105],[1.0])|(2505,[1429],[1.0])|(2789,[1429,2610,...|\n",
      "|      Rua Japeacaba |     Vila Albertina|São Paulo|268.0|      3|        6|    4|1700000.0|  false|       124.0|    573.0|(280,[124],[1.0])| (2505,[573],[1.0])|(2789,[573,2629,2...|\n",
      "+--------------------+-------------------+---------+-----+-------+---------+-----+---------+-------+------------+---------+-----------------+-------------------+--------------------+\n",
      "only showing top 20 rows\n",
      "\n"
     ]
    }
   ],
   "source": [
    "df_analise.show()"
   ]
  },
  {
   "cell_type": "markdown",
   "id": "eb1c3d2e",
   "metadata": {},
   "source": [
    "#### Random Forest Regressor "
   ]
  },
  {
   "cell_type": "code",
   "execution_count": 21,
   "id": "14ee6269",
   "metadata": {
    "ExecuteTime": {
     "end_time": "2024-03-29T21:59:11.546242Z",
     "start_time": "2024-03-29T21:59:11.540938Z"
    }
   },
   "outputs": [],
   "source": [
    "from pyspark.ml.regression import RandomForestRegressor"
   ]
  },
  {
   "cell_type": "code",
   "execution_count": 22,
   "id": "93d10ddb",
   "metadata": {
    "ExecuteTime": {
     "end_time": "2024-03-29T21:59:27.469652Z",
     "start_time": "2024-03-29T21:59:13.829876Z"
    }
   },
   "outputs": [],
   "source": [
    "# Inicializando o modelo\n",
    "rfr = RandomForestRegressor(featuresCol=\"features\", labelCol=\"Preço\")\n",
    "\n",
    "# Treinando o modelo com os dados de treinamento\n",
    "rfr_model = rfr.fit(train)"
   ]
  },
  {
   "cell_type": "code",
   "execution_count": 23,
   "id": "ba894f7b",
   "metadata": {
    "ExecuteTime": {
     "end_time": "2024-03-29T21:59:47.239394Z",
     "start_time": "2024-03-29T21:59:45.973036Z"
    }
   },
   "outputs": [
    {
     "name": "stdout",
     "output_type": "stream",
     "text": [
      "+------------------+---------+--------------------+\n",
      "|        prediction|    Preço|            features|\n",
      "+------------------+---------+--------------------+\n",
      "|3238508.9360938966|3750000.0|(2789,[1282,2548,...|\n",
      "|1349428.7712903605|2600000.0|(2789,[704,2513,2...|\n",
      "|1314717.8216158529|2600000.0|(2789,[274,2513,2...|\n",
      "| 3346206.213227139|6000000.0|(2789,[1285,2513,...|\n",
      "|2318152.7360799895|1300000.0|(2789,[708,2597,2...|\n",
      "|3310015.2638948266|3390000.0|(2789,[709,2509,2...|\n",
      "|1558538.4701223401|1690000.0|(2789,[188,2520,2...|\n",
      "|  1597934.42350948|1745000.0|(2789,[276,2520,2...|\n",
      "|  2585645.34740905|3500000.0|(2789,[414,2643,2...|\n",
      "|1807591.3939342846|1300000.0|(2789,[711,2509,2...|\n",
      "| 2078939.595358966|1730000.0|(2789,[711,2509,2...|\n",
      "|2959115.8700761166|2300000.0|(2789,[712,2509,2...|\n",
      "|1497497.5521425654|1300000.0|(2789,[277,2509,2...|\n",
      "|2926159.8782787872|3480000.0|(2789,[1290,2548,...|\n",
      "|1460251.3371345825|1390000.0|(2789,[189,2509,2...|\n",
      "|1513093.7048938654|1130000.0|(2789,[278,2537,2...|\n",
      "| 871835.1727942541| 600000.0|(2789,[1293,2520,...|\n",
      "| 2264540.211868374|1100000.0|(2789,[18,2528,27...|\n",
      "|2776018.8541207896|1200000.0|(2789,[18,2528,27...|\n",
      "| 879676.1581082934| 530000.0|(2789,[191,2585,2...|\n",
      "+------------------+---------+--------------------+\n",
      "only showing top 20 rows\n",
      "\n"
     ]
    }
   ],
   "source": [
    "# Fazendo previsões nos dados de teste\n",
    "predictions_rfr = rfr_model.transform(test)\n",
    "\n",
    "# Visualizando as previsões\n",
    "predictions_rfr.select(\"prediction\", \"Preço\", \"features\").show()"
   ]
  },
  {
   "cell_type": "code",
   "execution_count": 24,
   "id": "845029c9",
   "metadata": {
    "ExecuteTime": {
     "end_time": "2024-03-29T21:59:50.817166Z",
     "start_time": "2024-03-29T21:59:49.836052Z"
    }
   },
   "outputs": [
    {
     "name": "stdout",
     "output_type": "stream",
     "text": [
      "Root Mean Squared Error (RMSE) on test data = 936613\n"
     ]
    }
   ],
   "source": [
    "# Avaliando o modelo usando o evaluator padrão\n",
    "evaluator = RegressionEvaluator(labelCol=\"Preço\", predictionCol=\"prediction\", metricName=\"rmse\")\n",
    "rmse_rfr = evaluator.evaluate(predictions_rfr)\n",
    "print(\"Root Mean Squared Error (RMSE) on test data = %g\" % rmse_rfr)"
   ]
  },
  {
   "cell_type": "code",
   "execution_count": 25,
   "id": "0f9df2f1",
   "metadata": {
    "ExecuteTime": {
     "end_time": "2024-03-29T21:59:55.533546Z",
     "start_time": "2024-03-29T21:59:55.487617Z"
    }
   },
   "outputs": [
    {
     "data": {
      "text/plain": [
       "False"
      ]
     },
     "execution_count": 25,
     "metadata": {},
     "output_type": "execute_result"
    }
   ],
   "source": [
    "rmse > rmse_rfr"
   ]
  }
 ],
 "metadata": {
  "kernelspec": {
   "display_name": "Python 3 (ipykernel)",
   "language": "python",
   "name": "python3"
  },
  "language_info": {
   "codemirror_mode": {
    "name": "ipython",
    "version": 3
   },
   "file_extension": ".py",
   "mimetype": "text/x-python",
   "name": "python",
   "nbconvert_exporter": "python",
   "pygments_lexer": "ipython3",
   "version": "3.11.5"
  },
  "varInspector": {
   "cols": {
    "lenName": 16,
    "lenType": 16,
    "lenVar": 40
   },
   "kernels_config": {
    "python": {
     "delete_cmd_postfix": "",
     "delete_cmd_prefix": "del ",
     "library": "var_list.py",
     "varRefreshCmd": "print(var_dic_list())"
    },
    "r": {
     "delete_cmd_postfix": ") ",
     "delete_cmd_prefix": "rm(",
     "library": "var_list.r",
     "varRefreshCmd": "cat(var_dic_list()) "
    }
   },
   "types_to_exclude": [
    "module",
    "function",
    "builtin_function_or_method",
    "instance",
    "_Feature"
   ],
   "window_display": false
  }
 },
 "nbformat": 4,
 "nbformat_minor": 5
}
